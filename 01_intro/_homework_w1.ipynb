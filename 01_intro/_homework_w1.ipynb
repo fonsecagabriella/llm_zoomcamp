{
 "cells": [
  {
   "cell_type": "markdown",
   "id": "5af26b2a",
   "metadata": {},
   "source": [
    "## Homework: Introduction | Week 01\n",
    "\n",
    "In this homework, we'll learn more about search and use Elastic Search for practice. \n",
    "\n",
    "## Q1. Running Elastic \n",
    "\n",
    "Run Elastic Search 8.17.6, and get the cluster information. If you run it on localhost, this is how you do it:\n",
    "\n",
    "```bash\n",
    "curl localhost:9200\n",
    "```\n",
    "\n",
    "What's the `version.build_hash` value?\n",
    "\n",
    "> dbcbbbd0bc4924cfeb28929dc05d82d662c527b7\n",
    "\n",
    "👩🏽‍💻 **EXPLANATION**\n",
    "\n",
    "To run the version above, run in terminal:\n",
    "\n",
    "```bash\n",
    "docker run -it \\\n",
    "    --rm \\\n",
    "    --name elasticsearch \\\n",
    "    -m 4GB \\\n",
    "    -p 9200:9200 \\\n",
    "    -p 9300:9300 \\\n",
    "    -e \"discovery.type=single-node\" \\\n",
    "    -e \"xpack.security.enabled=false\" \\\n",
    "    docker.elastic.co/elasticsearch/elasticsearch:8.17.6\n",
    "```\n",
    "\n",
    "<img src=\"./imgs/h1.png\" width=\"50%\">"
   ]
  },
  {
   "cell_type": "markdown",
   "id": "2e003908",
   "metadata": {},
   "source": [
    "## Getting the data\n",
    "\n",
    "Now let's get the FAQ data. You can run this snippet:\n",
    "\n",
    "```python\n",
    "import requests \n",
    "\n",
    "docs_url = 'https://github.com/DataTalksClub/llm-zoomcamp/blob/main/01-intro/documents.json?raw=1'\n",
    "docs_response = requests.get(docs_url)\n",
    "documents_raw = docs_response.json()\n",
    "\n",
    "documents = []\n",
    "\n",
    "for course in documents_raw:\n",
    "    course_name = course['course']\n",
    "\n",
    "    for doc in course['documents']:\n",
    "        doc['course'] = course_name\n",
    "        documents.append(doc)\n",
    "```\n",
    "\n",
    "Note that you need to have the `requests` library:\n",
    "\n",
    "```bash\n",
    "pip install requests\n",
    "```"
   ]
  },
  {
   "cell_type": "code",
   "execution_count": 1,
   "id": "5d482661",
   "metadata": {},
   "outputs": [],
   "source": [
    "import requests \n",
    "\n",
    "docs_url = 'https://github.com/DataTalksClub/llm-zoomcamp/blob/main/01-intro/documents.json?raw=1'\n",
    "docs_response = requests.get(docs_url)\n",
    "documents_raw = docs_response.json()\n",
    "\n",
    "documents = []\n",
    "\n",
    "for course in documents_raw:\n",
    "    course_name = course['course']\n",
    "\n",
    "    for doc in course['documents']:\n",
    "        doc['course'] = course_name\n",
    "        documents.append(doc)"
   ]
  },
  {
   "cell_type": "markdown",
   "id": "9d360dc1",
   "metadata": {},
   "source": [
    "## Q2. Indexing the data\n",
    "\n",
    "Index the data in the same way as was shown in the course videos. Make the `course` field a keyword and the rest should be text.\n",
    "\n",
    "Don't forget to install the ElasticSearch client for Python:\n",
    "\n",
    "```bash\n",
    "pip install elasticsearch\n",
    "```\n",
    "\n",
    "Which function do you use for adding your data to elastic?\n",
    "\n",
    "> `index`\n"
   ]
  },
  {
   "cell_type": "code",
   "execution_count": 2,
   "id": "9c5bed6b",
   "metadata": {},
   "outputs": [],
   "source": [
    "# Start ElasticSearch client\n",
    "from elasticsearch import Elasticsearch\n",
    "\n",
    "es_client = Elasticsearch('http://localhost:9200')"
   ]
  },
  {
   "cell_type": "code",
   "execution_count": 3,
   "id": "8cd0d149",
   "metadata": {},
   "outputs": [
    {
     "data": {
      "application/vnd.jupyter.widget-view+json": {
       "model_id": "88a1bf6f66e4465a9d38b22fedc0b221",
       "version_major": 2,
       "version_minor": 0
      },
      "text/plain": [
       "  0%|          | 0/948 [00:00<?, ?it/s]"
      ]
     },
     "metadata": {},
     "output_type": "display_data"
    }
   ],
   "source": [
    "# Indexing documents\n",
    "\n",
    "from tqdm.auto import tqdm # progress bar\n",
    "\n",
    "index_settings = {\n",
    "    \"settings\": {\n",
    "        \"number_of_shards\": 1,\n",
    "        \"number_of_replicas\": 0\n",
    "    },\n",
    "    \"mappings\": {\n",
    "        \"properties\": {\n",
    "            \"text\": {\"type\": \"text\"},\n",
    "            \"section\": {\"type\": \"text\"},\n",
    "            \"question\": {\"type\": \"text\"},\n",
    "            \"course\": {\"type\": \"keyword\"} \n",
    "        }\n",
    "    }\n",
    "}\n",
    "\n",
    "index_name = \"course-questions-homework\"\n",
    "\n",
    "es_client.indices.create(index=index_name, body=index_settings)\n",
    "\n",
    "# indexing documents into Elasticsearch\n",
    "for doc in tqdm(documents):\n",
    "    es_client.index(index=index_name, document=doc)"
   ]
  },
  {
   "cell_type": "markdown",
   "id": "3d9bf3a7",
   "metadata": {},
   "source": [
    "## Q3. Searching\n",
    "\n",
    "Now let's search in our index. \n",
    "\n",
    "We will execute a query \"How do execute a command on a Kubernetes pod?\". \n",
    "\n",
    "Use only `question` and `text` fields and give `question` a boost of 4, and use `\"type\": \"best_fields\"`.\n",
    "\n",
    "What's the score for the top ranking result?\n",
    "\n",
    "> 44.50\n",
    "\n",
    "\n",
    "Look at the `_score` field.\n"
   ]
  },
  {
   "cell_type": "code",
   "execution_count": 16,
   "id": "cecbdbd5",
   "metadata": {},
   "outputs": [],
   "source": [
    "def elastic_search(\n",
    "    query: str,\n",
    "    *,\n",
    "    filter_clause: dict | list[dict] | None = None,\n",
    "    size: int = 5,\n",
    "    index: str = index_name,\n",
    ") -> list[dict]:\n",
    "    \"\"\"\n",
    "    Run a relevance-ranked search against `index`, optionally adding a filter.\n",
    "\n",
    "    Parameters\n",
    "    ----------\n",
    "    query : str\n",
    "        The user’s free-text query that goes into the multi-match.\n",
    "    filter_clause : dict | list[dict] | None, optional\n",
    "        Any valid ES `filter` clause, e.g. {\"term\": {\"status\": \"published\"}}\n",
    "        or a list of such clauses.  `None` → no filter (default).\n",
    "    size : int, optional\n",
    "        How many top hits to return (default 5).\n",
    "    index : str, optional\n",
    "        Index name (defaults to the global `index_name`).\n",
    "\n",
    "    Returns\n",
    "    -------\n",
    "    list[dict]\n",
    "        Raw hit objects exactly as they appear in response[\"hits\"][\"hits\"].\n",
    "    \"\"\"\n",
    "\n",
    "    bool_query: dict[str, any] = {\n",
    "        \"must\": {\n",
    "            \"multi_match\": {\n",
    "                \"query\":  query,\n",
    "                \"fields\": [\"question^4\", \"text\"],   # boost question field\n",
    "                \"type\":   \"best_fields\"\n",
    "            }\n",
    "        }\n",
    "    }\n",
    "    \n",
    "    # Add the filter only when the caller supplied one.\n",
    "    if filter_clause:\n",
    "        # filter can be a single dict or already a list; normalise to list\n",
    "        if not isinstance(filter_clause, list):\n",
    "            filter_clause = [filter_clause]\n",
    "        bool_query[\"filter\"] = filter_clause\n",
    "    \n",
    "    search_query: dict[str, any] = {\n",
    "        \"size\": size,\n",
    "        \"query\": {\"bool\": bool_query},\n",
    "    }\n",
    "    \n",
    "    resp = es_client.search(index=index, body=search_query)\n",
    "    return resp[\"hits\"][\"hits\"]\n"
   ]
  },
  {
   "cell_type": "code",
   "execution_count": 17,
   "id": "635434e7",
   "metadata": {},
   "outputs": [
    {
     "name": "stdout",
     "output_type": "stream",
     "text": [
      "The score of the top results is 44.51\n"
     ]
    }
   ],
   "source": [
    "query = \"How do execute a command on a Kubernetes pod?\"\n",
    "\n",
    "results = elastic_search(query)\n",
    "\n",
    "print(f\"The score of the top results is {results[0]['_score']:.2f}\")\n"
   ]
  },
  {
   "cell_type": "markdown",
   "id": "99fd405a",
   "metadata": {},
   "source": [
    "## Q4. Filtering\n",
    "\n",
    "Now ask a different question: \"How do copy a file to a Docker container?\".\n",
    "\n",
    "This time we are only interested in questions from `machine-learning-zoomcamp`.\n",
    "\n",
    "Return 3 results. What's the 3rd question returned by the search engine?\n",
    "\n",
    "\n",
    "* How do I copy files from a different folder into docker container’s working directory?\n"
   ]
  },
  {
   "cell_type": "code",
   "execution_count": 26,
   "id": "0db2e8bc",
   "metadata": {},
   "outputs": [
    {
     "name": "stdout",
     "output_type": "stream",
     "text": [
      "The third question is: \n",
      "\n",
      "How do I copy files from a different folder into docker container’s working directory? \n"
     ]
    }
   ],
   "source": [
    "query = \"How do copy a file to a Docker container?\"\n",
    "\n",
    "results = elastic_search(\n",
    "        query,\n",
    "        filter_clause={\"term\":\n",
    "                        {\"course\": \"machine-learning-zoomcamp\"}\n",
    "        },\n",
    "        size=3\n",
    ")\n",
    "\n",
    "print(f\"The third question is: \\n\\n{results[2]['_source']['question']} \")"
   ]
  },
  {
   "cell_type": "markdown",
   "id": "ed2153bb",
   "metadata": {},
   "source": [
    "## Q5. Building a prompt\n",
    "\n",
    "Now we're ready to build a prompt to send to an LLM.\n",
    "\n",
    "Take the records returned from Elasticsearch in Q4 and use this template to build the context. Separate context entries by two linebreaks (`\\n\\n`)\n",
    "\n",
    "\n",
    "```python\n",
    "context_template = \"\"\"\n",
    "Q: {question}\n",
    "A: {text}\n",
    "\"\"\".strip()\n",
    "```\n",
    "\n",
    "Now use the context you just created along with the `How do I execute a command in a running docker container?` question\n",
    "to construct a prompt using the template below:\n",
    "\n",
    "```\n",
    "prompt_template = \"\"\"\n",
    "You're a course teaching assistant. Answer the QUESTION based on the CONTEXT from the FAQ database.\n",
    "Use only the facts from the CONTEXT when answering the QUESTION.\n",
    "\n",
    "QUESTION: {question}\n",
    "\n",
    "CONTEXT:\n",
    "{context}\n",
    "\"\"\".strip()\n",
    "```\n",
    "\n",
    "What's the length of the resulting prompt? (use the `len` function)\n",
    "\n",
    "> 1446\n"
   ]
  },
  {
   "cell_type": "code",
   "execution_count": 29,
   "id": "e2509c07",
   "metadata": {},
   "outputs": [],
   "source": [
    "context_template = \"\"\"\n",
    "Q: {question}\n",
    "A: {text}\n",
    "\"\"\".strip()"
   ]
  },
  {
   "cell_type": "code",
   "execution_count": null,
   "id": "ff65db97",
   "metadata": {},
   "outputs": [],
   "source": [
    "# results is the list returned from elastic_search()\n",
    "context_entries = [\n",
    "    context_template.format(\n",
    "        question=hit[\"_source\"][\"question\"],\n",
    "        text=hit[\"_source\"][\"text\"]\n",
    "    )\n",
    "    for hit in results\n",
    "]\n"
   ]
  },
  {
   "cell_type": "code",
   "execution_count": null,
   "id": "6820ed1c",
   "metadata": {},
   "outputs": [],
   "source": [
    "# Separate context entries by two linebreaks (\\n\\n)\n",
    "context = \"\\n\\n\".join(context_entries)"
   ]
  },
  {
   "cell_type": "code",
   "execution_count": 32,
   "id": "3d40b545",
   "metadata": {},
   "outputs": [],
   "source": [
    "prompt_template = \"\"\"\n",
    "You're a course teaching assistant. Answer the QUESTION based on the CONTEXT from the FAQ database.\n",
    "Use only the facts from the CONTEXT when answering the QUESTION.\n",
    "\n",
    "QUESTION: {question}\n",
    "\n",
    "CONTEXT:\n",
    "{context}\n",
    "\"\"\".strip()"
   ]
  },
  {
   "cell_type": "code",
   "execution_count": 33,
   "id": "a14ae3c9",
   "metadata": {},
   "outputs": [],
   "source": [
    "prompt = prompt_template.format(\n",
    "    question=\"How do I execute a command in a running docker container?\",\n",
    "    context=context\n",
    ")"
   ]
  },
  {
   "cell_type": "code",
   "execution_count": 34,
   "id": "3dd3a841",
   "metadata": {},
   "outputs": [
    {
     "name": "stdout",
     "output_type": "stream",
     "text": [
      "The length of the prompt is 1462\n"
     ]
    }
   ],
   "source": [
    "# measure the length of the prompt\n",
    "\n",
    "print(f\"The length of the prompt is {len(prompt)}\")"
   ]
  },
  {
   "cell_type": "markdown",
   "id": "5ab9e317",
   "metadata": {},
   "source": [
    "## Q6. Tokens\n",
    "\n",
    "When we use the OpenAI Platform, we're charged by the number of \n",
    "tokens we send in our prompt and receive in the response.\n",
    "\n",
    "The OpenAI python package uses `tiktoken` for tokenization:\n",
    "\n",
    "```bash\n",
    "pip install tiktoken\n",
    "```\n",
    "\n",
    "Let's calculate the number of tokens in our query: \n",
    "\n",
    "```python\n",
    "encoding = tiktoken.encoding_for_model(\"gpt-4o\")\n",
    "```\n",
    "\n",
    "Use the `encode` function. How many tokens does our prompt have?\n",
    "\n",
    "> 320\n",
    "\n",
    "Note: to decode back a token into a word, you can use the `decode_single_token_bytes` function:\n",
    "\n",
    "```python\n",
    "encoding.decode_single_token_bytes(63842)\n",
    "```"
   ]
  },
  {
   "cell_type": "code",
   "execution_count": 35,
   "id": "5065ad32",
   "metadata": {},
   "outputs": [
    {
     "name": "stdout",
     "output_type": "stream",
     "text": [
      "The number of tokens in the prompt is 322\n"
     ]
    }
   ],
   "source": [
    "import tiktoken\n",
    "\n",
    "encoding = tiktoken.encoding_for_model(\"gpt-4o\")\n",
    "\n",
    "# Count the number of tokens in the prompt\n",
    "num_tokens = len(encoding.encode(prompt))\n",
    "\n",
    "print(f\"The number of tokens in the prompt is {num_tokens}\")"
   ]
  },
  {
   "cell_type": "markdown",
   "id": "8be279aa",
   "metadata": {},
   "source": [
    "## Bonus: generating the answer (ungraded)\n",
    "\n",
    "Let's send the prompt to OpenAI. What's the response?  \n",
    "\n",
    ">\n",
    "\n",
    "Note: you can replace OpenAI with Ollama. See module 2."
   ]
  },
  {
   "cell_type": "code",
   "execution_count": 37,
   "id": "a87d514e",
   "metadata": {},
   "outputs": [
    {
     "name": "stdout",
     "output_type": "stream",
     "text": [
      "To execute a command in a running Docker container, use the `docker exec` command. First, find the container ID by using the `docker ps` command. Then, execute the desired command in the container with the following syntax:\n",
      "\n",
      "```sh\n",
      "docker exec -it <container-id> <command>\n",
      "```\n",
      "\n",
      "For example, to start a bash session, you would use:\n",
      "\n",
      "```sh\n",
      "docker exec -it <container-id> bash\n",
      "```\n"
     ]
    }
   ],
   "source": [
    "from openai import OpenAI\n",
    "\n",
    "import os\n",
    "from dotenv import load_dotenv, find_dotenv\n",
    "_ = load_dotenv(find_dotenv())  # read local .env file\n",
    "\n",
    "client = OpenAI(api_key=os.getenv(\"OPENAI_API_KEY\"))\n",
    "\n",
    "response = client.chat.completions.create(\n",
    "     model=\"gpt-4o\",\n",
    "     messages=[{\"role\": \"user\", \"content\": prompt}],\n",
    "\n",
    " )\n",
    "\n",
    "print(response.choices[0].message.content)"
   ]
  },
  {
   "cell_type": "markdown",
   "id": "5dcc5c57",
   "metadata": {},
   "source": [
    "## Bonus: calculating the costs (ungraded)\n",
    "\n",
    "Suppose that on average per request we send 150 tokens and receive back 250 tokens.\n",
    "\n",
    "How much will it cost to run 1000 requests?\n",
    "\n",
    "You can see the prices [here](https://openai.com/api/pricing/)\n",
    "\n",
    "On June 17, the prices for gpt4o are:\n",
    "\n",
    "* Input: $0.005 / 1K tokens\n",
    "* Output: $0.015 / 1K tokens\n",
    "\n",
    "You can redo the calculations with the values you got in Q6 and Q7."
   ]
  },
  {
   "cell_type": "code",
   "execution_count": 38,
   "id": "6ba87e48",
   "metadata": {},
   "outputs": [
    {
     "name": "stdout",
     "output_type": "stream",
     "text": [
      "The estimated cost of the request is $0.0030\n"
     ]
    }
   ],
   "source": [
    "def estimate_cost(n_reqs, tokens_in, tokens_out,\n",
    "                  price_in=0.005, price_out=0.015):\n",
    "    cost_in  = (tokens_in  * n_reqs / 1_000) * price_in\n",
    "    cost_out = (tokens_out * n_reqs / 1_000) * price_out\n",
    "    return cost_in + cost_out\n",
    "\n",
    "# Our case\n",
    "tokens_in = num_tokens\n",
    "tokens_out = len(encoding.encode(response.choices[0].message.content))\n",
    "\n",
    "print(f\"The estimated cost of the request is ${estimate_cost(1, tokens_in, tokens_out):.4f}\")\n",
    "\n"
   ]
  }
 ],
 "metadata": {
  "kernelspec": {
   "display_name": "llmenv",
   "language": "python",
   "name": "python3"
  },
  "language_info": {
   "codemirror_mode": {
    "name": "ipython",
    "version": 3
   },
   "file_extension": ".py",
   "mimetype": "text/x-python",
   "name": "python",
   "nbconvert_exporter": "python",
   "pygments_lexer": "ipython3",
   "version": "3.10.16"
  }
 },
 "nbformat": 4,
 "nbformat_minor": 5
}
