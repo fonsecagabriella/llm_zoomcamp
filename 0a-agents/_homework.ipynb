{
 "cells": [
  {
   "cell_type": "markdown",
   "id": "dca6512d",
   "metadata": {},
   "source": [
    "## Homework: Agents\n",
    "\n",
    "In this homework, we will learn more about function calling,\n",
    "and we will also explore MCP - model-context protocol. \n",
    "\n",
    "\n",
    "## Preparation\n",
    "\n",
    "First, we'll define a function that we will use when building\n",
    "our agent. \n",
    "\n",
    "It will generate fake weather data:"
   ]
  },
  {
   "cell_type": "code",
   "execution_count": 1,
   "id": "c6be821a",
   "metadata": {},
   "outputs": [],
   "source": [
    "import random\n",
    "\n",
    "known_weather_data = {\n",
    "    'berlin': 20.0\n",
    "}\n",
    "\n",
    "def get_weather(city: str) -> float:\n",
    "    city = city.strip().lower()\n",
    "\n",
    "    if city in known_weather_data:\n",
    "        return known_weather_data[city]\n",
    "\n",
    "    return round(random.uniform(-5, 35), 1)"
   ]
  },
  {
   "cell_type": "markdown",
   "id": "47d84a8c",
   "metadata": {},
   "source": [
    "## Q1. Define function description\n",
    "\n",
    "We want to use it as a tool for our agent, so we need to \n",
    "describe it \n",
    "\n",
    "How should the description for this function look like? Fill in missing parts\n",
    "\n",
    "```python\n",
    "get_weather_tool = {\n",
    "    \"type\": \"function\",\n",
    "    \"name\": \"<TODO1>\",\n",
    "    \"description\": \"<TODO2>\",\n",
    "    \"parameters\": {\n",
    "        \"type\": \"object\",\n",
    "        \"properties\": {\n",
    "            \"<TODO3>\": {\n",
    "                \"type\": \"string\",\n",
    "                \"description\": \"<TODO4>\"\n",
    "            }\n",
    "        },\n",
    "        \"required\": [TODO5],\n",
    "        \"additionalProperties\": False\n",
    "    }\n",
    "}\n",
    "```\n",
    "\n",
    "What did you put in `TODO3`?\n",
    "\n",
    "> `city`"
   ]
  },
  {
   "cell_type": "code",
   "execution_count": 2,
   "id": "7f3c3c6e",
   "metadata": {},
   "outputs": [],
   "source": [
    "get_weather_tool = {\n",
    "    \"type\": \"function\",                       # ← tells the model this is a callable tool\n",
    "    \"name\": \"get_weather\",                    # TODO1\n",
    "    \"description\": \"Return the current temperature in °C for a given city.\",  # TODO2\n",
    "    \"parameters\": {\n",
    "        \"type\": \"object\",\n",
    "        \"properties\": {\n",
    "            \"city\": {                         # TODO3\n",
    "                \"type\": \"string\",\n",
    "                \"description\": \"Name of the city to retrieve the weather for.\"  # TODO4\n",
    "            }\n",
    "        },\n",
    "        \"required\": [\"city\"],                 # TODO5\n",
    "        \"additionalProperties\": False\n",
    "    }\n",
    "}\n"
   ]
  },
  {
   "cell_type": "markdown",
   "id": "c57f053a",
   "metadata": {},
   "source": [
    "***Why these choices***\n",
    "\n",
    "| Field                         | Value chosen                         | Reason                                                                                                                |\n",
    "| ----------------------------- | ------------------------------------ | --------------------------------------------------------------------------------------------------------------------- |\n",
    "| `name`                        | `\"get_weather\"`                      | Must exactly match your Python function’s name so the orchestrator can link the model’s call to the code.             |\n",
    "| `description`                 | Clear, one-sentence goal (“Return…”) | The model uses this natural-language text to decide *when* and *how* to call the tool. Clarity reduces hallucination. |\n",
    "| `properties.city`             | `\"city\"`                             | The sole input your function needs. Keeping the schema minimal prevents the model from inventing extra keys.          |\n",
    "| `properties.city.description` | Explains the value                   | Helps the model format the argument correctly (plain city name, no extra stuff).                                      |\n",
    "| `required`                    | `[\"city\"]`                           | Marks the key as mandatory; the model won’t try to omit or rename it.                                                 |\n",
    "| `additionalProperties`        | `False`                              | Blocks unexpected keys (e.g., `\"country\"`, `\"unit\"`), which could crash your function.                                |\n"
   ]
  },
  {
   "cell_type": "markdown",
   "id": "1c01da42",
   "metadata": {},
   "source": [
    "## Testing it (Optional)\n",
    "\n",
    "If you have OpenAI API Key (or alternative provider), let's test it.\n",
    "\n",
    "A question could be `\"What's the weather like in Germany?\"`\n",
    "\n",
    "Experiment with different system prompts to have better answers\n",
    "from the system.\n",
    "\n",
    "You can use [chat_assistant.py](https://github.com/alexeygrigorev/rag-agents-workshop/blob/main/chat_assistant.py)\n",
    "or implement everything yourself \n"
   ]
  },
  {
   "cell_type": "code",
   "execution_count": 4,
   "id": "c77020aa",
   "metadata": {},
   "outputs": [
    {
     "name": "stdout",
     "output_type": "stream",
     "text": [
      "--2025-07-22 21:08:13--  https://raw.githubusercontent.com/alexeygrigorev/rag-agents-workshop/refs/heads/main/chat_assistant.py\n",
      "Resolving raw.githubusercontent.com (raw.githubusercontent.com)... 185.199.108.133, 185.199.109.133, 185.199.110.133, ...\n",
      "Connecting to raw.githubusercontent.com (raw.githubusercontent.com)|185.199.108.133|:443... connected.\n",
      "HTTP request sent, awaiting response... 200 OK\n",
      "Length: 3485 (3,4K) [text/plain]\n",
      "Saving to: ‘chat_assistant.py’\n",
      "\n",
      "chat_assistant.py   100%[===================>]   3,40K  --.-KB/s    in 0s      \n",
      "\n",
      "2025-07-22 21:08:14 (21,0 MB/s) - ‘chat_assistant.py’ saved [3485/3485]\n",
      "\n"
     ]
    }
   ],
   "source": [
    "!wget https://raw.githubusercontent.com/alexeygrigorev/rag-agents-workshop/refs/heads/main/chat_assistant.py"
   ]
  }
 ],
 "metadata": {
  "kernelspec": {
   "display_name": "llmenv",
   "language": "python",
   "name": "python3"
  },
  "language_info": {
   "codemirror_mode": {
    "name": "ipython",
    "version": 3
   },
   "file_extension": ".py",
   "mimetype": "text/x-python",
   "name": "python",
   "nbconvert_exporter": "python",
   "pygments_lexer": "ipython3",
   "version": "3.10.16"
  }
 },
 "nbformat": 4,
 "nbformat_minor": 5
}
