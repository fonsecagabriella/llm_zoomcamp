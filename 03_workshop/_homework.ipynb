{
 "cells": [
  {
   "cell_type": "markdown",
   "id": "603e0b2f",
   "metadata": {},
   "source": [
    "#  Homework - From REST to reasoning: ingest, index, and query with dlt and Cognee\n",
    "\n",
    "📺 Video: https://www.youtube.com/watch?v=MNt_KK32gys\n",
    "\n",
    "**Resources**\n",
    "\n",
    "* [Slides](https://docs.google.com/presentation/d/1oHQilxEVqGGW4S2ctNEE0wHY2LgcjYLaRUziAoinsis/edit?usp=sharing)\n",
    "* [Colab Notebook](https://colab.research.google.com/drive/1vBA9OIGChcKjjg8r5hHduR0v3A5D6rmH?usp=sharing) \n",
    "\n",
    "\n",
    "## Question 1. dlt Version\n",
    "\n",
    "In this homework, we will load the data from our FAQ to Qdrant\n",
    "\n",
    "Let's install dlt with Qdrant support and Qdrant client:"
   ]
  },
  {
   "cell_type": "code",
   "execution_count": 6,
   "id": "9c54e9c7",
   "metadata": {},
   "outputs": [
    {
     "name": "stdout",
     "output_type": "stream",
     "text": [
      "Requirement already satisfied: dlt[qdrant] in /usr/local/anaconda3/envs/llmenv/lib/python3.10/site-packages (1.14.1)\n",
      "Requirement already satisfied: click>=7.1 in /usr/local/anaconda3/envs/llmenv/lib/python3.10/site-packages (from dlt[qdrant]) (8.2.1)\n",
      "Requirement already satisfied: fsspec>=2022.4.0 in /usr/local/anaconda3/envs/llmenv/lib/python3.10/site-packages (from dlt[qdrant]) (2025.3.2)\n",
      "Requirement already satisfied: gitpython>=3.1.29 in /usr/local/anaconda3/envs/llmenv/lib/python3.10/site-packages (from dlt[qdrant]) (3.1.44)\n",
      "Requirement already satisfied: giturlparse>=0.10.0 in /usr/local/anaconda3/envs/llmenv/lib/python3.10/site-packages (from dlt[qdrant]) (0.12.0)\n",
      "Requirement already satisfied: hexbytes>=0.2.2 in /usr/local/anaconda3/envs/llmenv/lib/python3.10/site-packages (from dlt[qdrant]) (1.3.1)\n",
      "Requirement already satisfied: humanize>=4.4.0 in /usr/local/anaconda3/envs/llmenv/lib/python3.10/site-packages (from dlt[qdrant]) (4.12.3)\n",
      "Requirement already satisfied: jsonpath-ng>=1.5.3 in /usr/local/anaconda3/envs/llmenv/lib/python3.10/site-packages (from dlt[qdrant]) (1.7.0)\n",
      "Requirement already satisfied: orjson!=3.10.1,!=3.9.11,!=3.9.12,!=3.9.13,!=3.9.14,<4,>=3.6.7 in /usr/local/anaconda3/envs/llmenv/lib/python3.10/site-packages (from dlt[qdrant]) (3.11.0)\n",
      "Requirement already satisfied: packaging>=21.1 in /usr/local/anaconda3/envs/llmenv/lib/python3.10/site-packages (from dlt[qdrant]) (24.2)\n",
      "Requirement already satisfied: pathvalidate>=2.5.2 in /usr/local/anaconda3/envs/llmenv/lib/python3.10/site-packages (from dlt[qdrant]) (3.3.1)\n",
      "Requirement already satisfied: pendulum>=2.1.2 in /usr/local/anaconda3/envs/llmenv/lib/python3.10/site-packages (from dlt[qdrant]) (3.1.0)\n",
      "Requirement already satisfied: pluggy>=1.3.0 in /usr/local/anaconda3/envs/llmenv/lib/python3.10/site-packages (from dlt[qdrant]) (1.6.0)\n",
      "Requirement already satisfied: pytz>=2022.6 in /usr/local/anaconda3/envs/llmenv/lib/python3.10/site-packages (from dlt[qdrant]) (2024.1)\n",
      "Requirement already satisfied: pyyaml>=5.4.1 in /usr/local/anaconda3/envs/llmenv/lib/python3.10/site-packages (from dlt[qdrant]) (6.0.2)\n",
      "Requirement already satisfied: requests>=2.26.0 in /usr/local/anaconda3/envs/llmenv/lib/python3.10/site-packages (from dlt[qdrant]) (2.32.3)\n",
      "Requirement already satisfied: requirements-parser>=0.5.0 in /usr/local/anaconda3/envs/llmenv/lib/python3.10/site-packages (from dlt[qdrant]) (0.13.0)\n",
      "Requirement already satisfied: rich-argparse>=1.6.0 in /usr/local/anaconda3/envs/llmenv/lib/python3.10/site-packages (from dlt[qdrant]) (1.7.1)\n",
      "Requirement already satisfied: semver>=3.0.0 in /usr/local/anaconda3/envs/llmenv/lib/python3.10/site-packages (from dlt[qdrant]) (3.0.4)\n",
      "Requirement already satisfied: setuptools>=65.6.0 in /usr/local/anaconda3/envs/llmenv/lib/python3.10/site-packages (from dlt[qdrant]) (72.1.0)\n",
      "Requirement already satisfied: simplejson>=3.17.5 in /usr/local/anaconda3/envs/llmenv/lib/python3.10/site-packages (from dlt[qdrant]) (3.20.1)\n",
      "Requirement already satisfied: sqlglot>=25.4.0 in /usr/local/anaconda3/envs/llmenv/lib/python3.10/site-packages (from dlt[qdrant]) (27.1.0)\n",
      "Requirement already satisfied: tenacity>=8.0.2 in /usr/local/anaconda3/envs/llmenv/lib/python3.10/site-packages (from dlt[qdrant]) (9.1.2)\n",
      "Requirement already satisfied: tomlkit>=0.11.3 in /usr/local/anaconda3/envs/llmenv/lib/python3.10/site-packages (from dlt[qdrant]) (0.13.3)\n",
      "Requirement already satisfied: typing-extensions>=4.8.0 in /usr/local/anaconda3/envs/llmenv/lib/python3.10/site-packages (from dlt[qdrant]) (4.12.2)\n",
      "Requirement already satisfied: tzdata>=2022.1 in /usr/local/anaconda3/envs/llmenv/lib/python3.10/site-packages (from dlt[qdrant]) (2025.2)\n",
      "Requirement already satisfied: qdrant-client>=1.8 in /usr/local/anaconda3/envs/llmenv/lib/python3.10/site-packages (from qdrant-client[fastembed]>=1.8; extra == \"qdrant\"->dlt[qdrant]) (1.14.2)\n",
      "Requirement already satisfied: gitdb<5,>=4.0.1 in /usr/local/anaconda3/envs/llmenv/lib/python3.10/site-packages (from gitpython>=3.1.29->dlt[qdrant]) (4.0.12)\n",
      "Requirement already satisfied: smmap<6,>=3.0.1 in /usr/local/anaconda3/envs/llmenv/lib/python3.10/site-packages (from gitdb<5,>=4.0.1->gitpython>=3.1.29->dlt[qdrant]) (5.0.2)\n",
      "Requirement already satisfied: ply in /usr/local/anaconda3/envs/llmenv/lib/python3.10/site-packages (from jsonpath-ng>=1.5.3->dlt[qdrant]) (3.11)\n",
      "Requirement already satisfied: python-dateutil>=2.6 in /usr/local/anaconda3/envs/llmenv/lib/python3.10/site-packages (from pendulum>=2.1.2->dlt[qdrant]) (2.9.0.post0)\n",
      "Requirement already satisfied: six>=1.5 in /usr/local/anaconda3/envs/llmenv/lib/python3.10/site-packages (from python-dateutil>=2.6->pendulum>=2.1.2->dlt[qdrant]) (1.17.0)\n",
      "Requirement already satisfied: grpcio>=1.41.0 in /usr/local/anaconda3/envs/llmenv/lib/python3.10/site-packages (from qdrant-client>=1.8->qdrant-client[fastembed]>=1.8; extra == \"qdrant\"->dlt[qdrant]) (1.73.0)\n",
      "Requirement already satisfied: httpx>=0.20.0 in /usr/local/anaconda3/envs/llmenv/lib/python3.10/site-packages (from httpx[http2]>=0.20.0->qdrant-client>=1.8->qdrant-client[fastembed]>=1.8; extra == \"qdrant\"->dlt[qdrant]) (0.28.1)\n",
      "Requirement already satisfied: numpy>=1.21 in /usr/local/anaconda3/envs/llmenv/lib/python3.10/site-packages (from qdrant-client>=1.8->qdrant-client[fastembed]>=1.8; extra == \"qdrant\"->dlt[qdrant]) (2.1.0)\n",
      "Requirement already satisfied: portalocker<3.0.0,>=2.7.0 in /usr/local/anaconda3/envs/llmenv/lib/python3.10/site-packages (from qdrant-client>=1.8->qdrant-client[fastembed]>=1.8; extra == \"qdrant\"->dlt[qdrant]) (2.10.1)\n",
      "Requirement already satisfied: protobuf>=3.20.0 in /usr/local/anaconda3/envs/llmenv/lib/python3.10/site-packages (from qdrant-client>=1.8->qdrant-client[fastembed]>=1.8; extra == \"qdrant\"->dlt[qdrant]) (6.31.1)\n",
      "Requirement already satisfied: pydantic!=2.0.*,!=2.1.*,!=2.2.0,>=1.10.8 in /usr/local/anaconda3/envs/llmenv/lib/python3.10/site-packages (from qdrant-client>=1.8->qdrant-client[fastembed]>=1.8; extra == \"qdrant\"->dlt[qdrant]) (2.10.5)\n",
      "Requirement already satisfied: urllib3<3,>=1.26.14 in /usr/local/anaconda3/envs/llmenv/lib/python3.10/site-packages (from qdrant-client>=1.8->qdrant-client[fastembed]>=1.8; extra == \"qdrant\"->dlt[qdrant]) (1.26.19)\n",
      "Requirement already satisfied: anyio in /usr/local/anaconda3/envs/llmenv/lib/python3.10/site-packages (from httpx>=0.20.0->httpx[http2]>=0.20.0->qdrant-client>=1.8->qdrant-client[fastembed]>=1.8; extra == \"qdrant\"->dlt[qdrant]) (4.7.0)\n",
      "Requirement already satisfied: certifi in /usr/local/anaconda3/envs/llmenv/lib/python3.10/site-packages (from httpx>=0.20.0->httpx[http2]>=0.20.0->qdrant-client>=1.8->qdrant-client[fastembed]>=1.8; extra == \"qdrant\"->dlt[qdrant]) (2025.4.26)\n",
      "Requirement already satisfied: httpcore==1.* in /usr/local/anaconda3/envs/llmenv/lib/python3.10/site-packages (from httpx>=0.20.0->httpx[http2]>=0.20.0->qdrant-client>=1.8->qdrant-client[fastembed]>=1.8; extra == \"qdrant\"->dlt[qdrant]) (1.0.2)\n",
      "Requirement already satisfied: idna in /usr/local/anaconda3/envs/llmenv/lib/python3.10/site-packages (from httpx>=0.20.0->httpx[http2]>=0.20.0->qdrant-client>=1.8->qdrant-client[fastembed]>=1.8; extra == \"qdrant\"->dlt[qdrant]) (3.7)\n",
      "Requirement already satisfied: h11<0.15,>=0.13 in /usr/local/anaconda3/envs/llmenv/lib/python3.10/site-packages (from httpcore==1.*->httpx>=0.20.0->httpx[http2]>=0.20.0->qdrant-client>=1.8->qdrant-client[fastembed]>=1.8; extra == \"qdrant\"->dlt[qdrant]) (0.14.0)\n",
      "Requirement already satisfied: h2<5,>=3 in /usr/local/anaconda3/envs/llmenv/lib/python3.10/site-packages (from httpx[http2]>=0.20.0->qdrant-client>=1.8->qdrant-client[fastembed]>=1.8; extra == \"qdrant\"->dlt[qdrant]) (4.2.0)\n",
      "Requirement already satisfied: hyperframe<7,>=6.1 in /usr/local/anaconda3/envs/llmenv/lib/python3.10/site-packages (from h2<5,>=3->httpx[http2]>=0.20.0->qdrant-client>=1.8->qdrant-client[fastembed]>=1.8; extra == \"qdrant\"->dlt[qdrant]) (6.1.0)\n",
      "Requirement already satisfied: hpack<5,>=4.1 in /usr/local/anaconda3/envs/llmenv/lib/python3.10/site-packages (from h2<5,>=3->httpx[http2]>=0.20.0->qdrant-client>=1.8->qdrant-client[fastembed]>=1.8; extra == \"qdrant\"->dlt[qdrant]) (4.1.0)\n",
      "Requirement already satisfied: annotated-types>=0.6.0 in /usr/local/anaconda3/envs/llmenv/lib/python3.10/site-packages (from pydantic!=2.0.*,!=2.1.*,!=2.2.0,>=1.10.8->qdrant-client>=1.8->qdrant-client[fastembed]>=1.8; extra == \"qdrant\"->dlt[qdrant]) (0.6.0)\n",
      "Requirement already satisfied: pydantic-core==2.27.2 in /usr/local/anaconda3/envs/llmenv/lib/python3.10/site-packages (from pydantic!=2.0.*,!=2.1.*,!=2.2.0,>=1.10.8->qdrant-client>=1.8->qdrant-client[fastembed]>=1.8; extra == \"qdrant\"->dlt[qdrant]) (2.27.2)\n",
      "Requirement already satisfied: fastembed==0.6.1 in /usr/local/anaconda3/envs/llmenv/lib/python3.10/site-packages (from qdrant-client[fastembed]>=1.8; extra == \"qdrant\"->dlt[qdrant]) (0.6.1)\n",
      "Requirement already satisfied: huggingface-hub<1.0,>=0.20 in /usr/local/anaconda3/envs/llmenv/lib/python3.10/site-packages (from fastembed==0.6.1->qdrant-client[fastembed]>=1.8; extra == \"qdrant\"->dlt[qdrant]) (0.33.0)\n",
      "Requirement already satisfied: loguru<0.8.0,>=0.7.2 in /usr/local/anaconda3/envs/llmenv/lib/python3.10/site-packages (from fastembed==0.6.1->qdrant-client[fastembed]>=1.8; extra == \"qdrant\"->dlt[qdrant]) (0.7.3)\n",
      "Requirement already satisfied: mmh3<6.0.0,>=4.1.0 in /usr/local/anaconda3/envs/llmenv/lib/python3.10/site-packages (from fastembed==0.6.1->qdrant-client[fastembed]>=1.8; extra == \"qdrant\"->dlt[qdrant]) (5.1.0)\n",
      "Requirement already satisfied: onnxruntime!=1.20.0,>=1.17.0 in /usr/local/anaconda3/envs/llmenv/lib/python3.10/site-packages (from fastembed==0.6.1->qdrant-client[fastembed]>=1.8; extra == \"qdrant\"->dlt[qdrant]) (1.21.1)\n",
      "Requirement already satisfied: pillow<12.0.0,>=10.3.0 in /usr/local/anaconda3/envs/llmenv/lib/python3.10/site-packages (from fastembed==0.6.1->qdrant-client[fastembed]>=1.8; extra == \"qdrant\"->dlt[qdrant]) (11.2.1)\n",
      "Requirement already satisfied: py-rust-stemmers<0.2.0,>=0.1.0 in /usr/local/anaconda3/envs/llmenv/lib/python3.10/site-packages (from fastembed==0.6.1->qdrant-client[fastembed]>=1.8; extra == \"qdrant\"->dlt[qdrant]) (0.1.5)\n",
      "Requirement already satisfied: tokenizers<1.0,>=0.15 in /usr/local/anaconda3/envs/llmenv/lib/python3.10/site-packages (from fastembed==0.6.1->qdrant-client[fastembed]>=1.8; extra == \"qdrant\"->dlt[qdrant]) (0.21.1)\n",
      "Requirement already satisfied: tqdm<5.0,>=4.66 in /usr/local/anaconda3/envs/llmenv/lib/python3.10/site-packages (from fastembed==0.6.1->qdrant-client[fastembed]>=1.8; extra == \"qdrant\"->dlt[qdrant]) (4.67.1)\n",
      "Requirement already satisfied: filelock in /usr/local/anaconda3/envs/llmenv/lib/python3.10/site-packages (from huggingface-hub<1.0,>=0.20->fastembed==0.6.1->qdrant-client[fastembed]>=1.8; extra == \"qdrant\"->dlt[qdrant]) (3.18.0)\n",
      "Requirement already satisfied: hf-xet<2.0.0,>=1.1.2 in /usr/local/anaconda3/envs/llmenv/lib/python3.10/site-packages (from huggingface-hub<1.0,>=0.20->fastembed==0.6.1->qdrant-client[fastembed]>=1.8; extra == \"qdrant\"->dlt[qdrant]) (1.1.3)\n",
      "Requirement already satisfied: charset-normalizer<4,>=2 in /usr/local/anaconda3/envs/llmenv/lib/python3.10/site-packages (from requests>=2.26.0->dlt[qdrant]) (3.3.2)\n",
      "Requirement already satisfied: coloredlogs in /usr/local/anaconda3/envs/llmenv/lib/python3.10/site-packages (from onnxruntime!=1.20.0,>=1.17.0->fastembed==0.6.1->qdrant-client[fastembed]>=1.8; extra == \"qdrant\"->dlt[qdrant]) (15.0.1)\n",
      "Requirement already satisfied: flatbuffers in /usr/local/anaconda3/envs/llmenv/lib/python3.10/site-packages (from onnxruntime!=1.20.0,>=1.17.0->fastembed==0.6.1->qdrant-client[fastembed]>=1.8; extra == \"qdrant\"->dlt[qdrant]) (25.2.10)\n",
      "Requirement already satisfied: sympy in /usr/local/anaconda3/envs/llmenv/lib/python3.10/site-packages (from onnxruntime!=1.20.0,>=1.17.0->fastembed==0.6.1->qdrant-client[fastembed]>=1.8; extra == \"qdrant\"->dlt[qdrant]) (1.14.0)\n",
      "Requirement already satisfied: rich>=11.0.0 in /usr/local/anaconda3/envs/llmenv/lib/python3.10/site-packages (from rich-argparse>=1.6.0->dlt[qdrant]) (14.0.0)\n",
      "Requirement already satisfied: markdown-it-py>=2.2.0 in /usr/local/anaconda3/envs/llmenv/lib/python3.10/site-packages (from rich>=11.0.0->rich-argparse>=1.6.0->dlt[qdrant]) (3.0.0)\n",
      "Requirement already satisfied: pygments<3.0.0,>=2.13.0 in /usr/local/anaconda3/envs/llmenv/lib/python3.10/site-packages (from rich>=11.0.0->rich-argparse>=1.6.0->dlt[qdrant]) (2.19.1)\n",
      "Requirement already satisfied: mdurl~=0.1 in /usr/local/anaconda3/envs/llmenv/lib/python3.10/site-packages (from markdown-it-py>=2.2.0->rich>=11.0.0->rich-argparse>=1.6.0->dlt[qdrant]) (0.1.2)\n",
      "Requirement already satisfied: exceptiongroup>=1.0.2 in /usr/local/anaconda3/envs/llmenv/lib/python3.10/site-packages (from anyio->httpx>=0.20.0->httpx[http2]>=0.20.0->qdrant-client>=1.8->qdrant-client[fastembed]>=1.8; extra == \"qdrant\"->dlt[qdrant]) (1.2.0)\n",
      "Requirement already satisfied: sniffio>=1.1 in /usr/local/anaconda3/envs/llmenv/lib/python3.10/site-packages (from anyio->httpx>=0.20.0->httpx[http2]>=0.20.0->qdrant-client>=1.8->qdrant-client[fastembed]>=1.8; extra == \"qdrant\"->dlt[qdrant]) (1.3.0)\n",
      "Requirement already satisfied: humanfriendly>=9.1 in /usr/local/anaconda3/envs/llmenv/lib/python3.10/site-packages (from coloredlogs->onnxruntime!=1.20.0,>=1.17.0->fastembed==0.6.1->qdrant-client[fastembed]>=1.8; extra == \"qdrant\"->dlt[qdrant]) (10.0)\n",
      "Requirement already satisfied: mpmath<1.4,>=1.1.0 in /usr/local/anaconda3/envs/llmenv/lib/python3.10/site-packages (from sympy->onnxruntime!=1.20.0,>=1.17.0->fastembed==0.6.1->qdrant-client[fastembed]>=1.8; extra == \"qdrant\"->dlt[qdrant]) (1.3.0)\n"
     ]
    }
   ],
   "source": [
    "!pip install \"dlt[qdrant]\""
   ]
  },
  {
   "cell_type": "code",
   "execution_count": 7,
   "id": "c6ae2af3",
   "metadata": {},
   "outputs": [
    {
     "name": "stdout",
     "output_type": "stream",
     "text": [
      "Requirement already satisfied: qdrant-client[fastembed] in /usr/local/anaconda3/envs/llmenv/lib/python3.10/site-packages (1.14.2)\n",
      "Requirement already satisfied: grpcio>=1.41.0 in /usr/local/anaconda3/envs/llmenv/lib/python3.10/site-packages (from qdrant-client[fastembed]) (1.73.0)\n",
      "Requirement already satisfied: httpx>=0.20.0 in /usr/local/anaconda3/envs/llmenv/lib/python3.10/site-packages (from httpx[http2]>=0.20.0->qdrant-client[fastembed]) (0.28.1)\n",
      "Requirement already satisfied: numpy>=1.21 in /usr/local/anaconda3/envs/llmenv/lib/python3.10/site-packages (from qdrant-client[fastembed]) (2.1.0)\n",
      "Requirement already satisfied: portalocker<3.0.0,>=2.7.0 in /usr/local/anaconda3/envs/llmenv/lib/python3.10/site-packages (from qdrant-client[fastembed]) (2.10.1)\n",
      "Requirement already satisfied: protobuf>=3.20.0 in /usr/local/anaconda3/envs/llmenv/lib/python3.10/site-packages (from qdrant-client[fastembed]) (6.31.1)\n",
      "Requirement already satisfied: pydantic!=2.0.*,!=2.1.*,!=2.2.0,>=1.10.8 in /usr/local/anaconda3/envs/llmenv/lib/python3.10/site-packages (from qdrant-client[fastembed]) (2.10.5)\n",
      "Requirement already satisfied: urllib3<3,>=1.26.14 in /usr/local/anaconda3/envs/llmenv/lib/python3.10/site-packages (from qdrant-client[fastembed]) (1.26.19)\n",
      "Requirement already satisfied: fastembed==0.6.1 in /usr/local/anaconda3/envs/llmenv/lib/python3.10/site-packages (from qdrant-client[fastembed]) (0.6.1)\n",
      "Requirement already satisfied: huggingface-hub<1.0,>=0.20 in /usr/local/anaconda3/envs/llmenv/lib/python3.10/site-packages (from fastembed==0.6.1->qdrant-client[fastembed]) (0.33.0)\n",
      "Requirement already satisfied: loguru<0.8.0,>=0.7.2 in /usr/local/anaconda3/envs/llmenv/lib/python3.10/site-packages (from fastembed==0.6.1->qdrant-client[fastembed]) (0.7.3)\n",
      "Requirement already satisfied: mmh3<6.0.0,>=4.1.0 in /usr/local/anaconda3/envs/llmenv/lib/python3.10/site-packages (from fastembed==0.6.1->qdrant-client[fastembed]) (5.1.0)\n",
      "Requirement already satisfied: onnxruntime!=1.20.0,>=1.17.0 in /usr/local/anaconda3/envs/llmenv/lib/python3.10/site-packages (from fastembed==0.6.1->qdrant-client[fastembed]) (1.21.1)\n",
      "Requirement already satisfied: pillow<12.0.0,>=10.3.0 in /usr/local/anaconda3/envs/llmenv/lib/python3.10/site-packages (from fastembed==0.6.1->qdrant-client[fastembed]) (11.2.1)\n",
      "Requirement already satisfied: py-rust-stemmers<0.2.0,>=0.1.0 in /usr/local/anaconda3/envs/llmenv/lib/python3.10/site-packages (from fastembed==0.6.1->qdrant-client[fastembed]) (0.1.5)\n",
      "Requirement already satisfied: requests<3.0,>=2.31 in /usr/local/anaconda3/envs/llmenv/lib/python3.10/site-packages (from fastembed==0.6.1->qdrant-client[fastembed]) (2.32.3)\n",
      "Requirement already satisfied: tokenizers<1.0,>=0.15 in /usr/local/anaconda3/envs/llmenv/lib/python3.10/site-packages (from fastembed==0.6.1->qdrant-client[fastembed]) (0.21.1)\n",
      "Requirement already satisfied: tqdm<5.0,>=4.66 in /usr/local/anaconda3/envs/llmenv/lib/python3.10/site-packages (from fastembed==0.6.1->qdrant-client[fastembed]) (4.67.1)\n",
      "Requirement already satisfied: filelock in /usr/local/anaconda3/envs/llmenv/lib/python3.10/site-packages (from huggingface-hub<1.0,>=0.20->fastembed==0.6.1->qdrant-client[fastembed]) (3.18.0)\n",
      "Requirement already satisfied: fsspec>=2023.5.0 in /usr/local/anaconda3/envs/llmenv/lib/python3.10/site-packages (from huggingface-hub<1.0,>=0.20->fastembed==0.6.1->qdrant-client[fastembed]) (2025.3.2)\n",
      "Requirement already satisfied: packaging>=20.9 in /usr/local/anaconda3/envs/llmenv/lib/python3.10/site-packages (from huggingface-hub<1.0,>=0.20->fastembed==0.6.1->qdrant-client[fastembed]) (24.2)\n",
      "Requirement already satisfied: pyyaml>=5.1 in /usr/local/anaconda3/envs/llmenv/lib/python3.10/site-packages (from huggingface-hub<1.0,>=0.20->fastembed==0.6.1->qdrant-client[fastembed]) (6.0.2)\n",
      "Requirement already satisfied: typing-extensions>=3.7.4.3 in /usr/local/anaconda3/envs/llmenv/lib/python3.10/site-packages (from huggingface-hub<1.0,>=0.20->fastembed==0.6.1->qdrant-client[fastembed]) (4.12.2)\n",
      "Requirement already satisfied: hf-xet<2.0.0,>=1.1.2 in /usr/local/anaconda3/envs/llmenv/lib/python3.10/site-packages (from huggingface-hub<1.0,>=0.20->fastembed==0.6.1->qdrant-client[fastembed]) (1.1.3)\n",
      "Requirement already satisfied: charset-normalizer<4,>=2 in /usr/local/anaconda3/envs/llmenv/lib/python3.10/site-packages (from requests<3.0,>=2.31->fastembed==0.6.1->qdrant-client[fastembed]) (3.3.2)\n",
      "Requirement already satisfied: idna<4,>=2.5 in /usr/local/anaconda3/envs/llmenv/lib/python3.10/site-packages (from requests<3.0,>=2.31->fastembed==0.6.1->qdrant-client[fastembed]) (3.7)\n",
      "Requirement already satisfied: certifi>=2017.4.17 in /usr/local/anaconda3/envs/llmenv/lib/python3.10/site-packages (from requests<3.0,>=2.31->fastembed==0.6.1->qdrant-client[fastembed]) (2025.4.26)\n",
      "Requirement already satisfied: anyio in /usr/local/anaconda3/envs/llmenv/lib/python3.10/site-packages (from httpx>=0.20.0->httpx[http2]>=0.20.0->qdrant-client[fastembed]) (4.7.0)\n",
      "Requirement already satisfied: httpcore==1.* in /usr/local/anaconda3/envs/llmenv/lib/python3.10/site-packages (from httpx>=0.20.0->httpx[http2]>=0.20.0->qdrant-client[fastembed]) (1.0.2)\n",
      "Requirement already satisfied: h11<0.15,>=0.13 in /usr/local/anaconda3/envs/llmenv/lib/python3.10/site-packages (from httpcore==1.*->httpx>=0.20.0->httpx[http2]>=0.20.0->qdrant-client[fastembed]) (0.14.0)\n",
      "Requirement already satisfied: h2<5,>=3 in /usr/local/anaconda3/envs/llmenv/lib/python3.10/site-packages (from httpx[http2]>=0.20.0->qdrant-client[fastembed]) (4.2.0)\n",
      "Requirement already satisfied: hyperframe<7,>=6.1 in /usr/local/anaconda3/envs/llmenv/lib/python3.10/site-packages (from h2<5,>=3->httpx[http2]>=0.20.0->qdrant-client[fastembed]) (6.1.0)\n",
      "Requirement already satisfied: hpack<5,>=4.1 in /usr/local/anaconda3/envs/llmenv/lib/python3.10/site-packages (from h2<5,>=3->httpx[http2]>=0.20.0->qdrant-client[fastembed]) (4.1.0)\n",
      "Requirement already satisfied: coloredlogs in /usr/local/anaconda3/envs/llmenv/lib/python3.10/site-packages (from onnxruntime!=1.20.0,>=1.17.0->fastembed==0.6.1->qdrant-client[fastembed]) (15.0.1)\n",
      "Requirement already satisfied: flatbuffers in /usr/local/anaconda3/envs/llmenv/lib/python3.10/site-packages (from onnxruntime!=1.20.0,>=1.17.0->fastembed==0.6.1->qdrant-client[fastembed]) (25.2.10)\n",
      "Requirement already satisfied: sympy in /usr/local/anaconda3/envs/llmenv/lib/python3.10/site-packages (from onnxruntime!=1.20.0,>=1.17.0->fastembed==0.6.1->qdrant-client[fastembed]) (1.14.0)\n",
      "Requirement already satisfied: annotated-types>=0.6.0 in /usr/local/anaconda3/envs/llmenv/lib/python3.10/site-packages (from pydantic!=2.0.*,!=2.1.*,!=2.2.0,>=1.10.8->qdrant-client[fastembed]) (0.6.0)\n",
      "Requirement already satisfied: pydantic-core==2.27.2 in /usr/local/anaconda3/envs/llmenv/lib/python3.10/site-packages (from pydantic!=2.0.*,!=2.1.*,!=2.2.0,>=1.10.8->qdrant-client[fastembed]) (2.27.2)\n",
      "Requirement already satisfied: exceptiongroup>=1.0.2 in /usr/local/anaconda3/envs/llmenv/lib/python3.10/site-packages (from anyio->httpx>=0.20.0->httpx[http2]>=0.20.0->qdrant-client[fastembed]) (1.2.0)\n",
      "Requirement already satisfied: sniffio>=1.1 in /usr/local/anaconda3/envs/llmenv/lib/python3.10/site-packages (from anyio->httpx>=0.20.0->httpx[http2]>=0.20.0->qdrant-client[fastembed]) (1.3.0)\n",
      "Requirement already satisfied: humanfriendly>=9.1 in /usr/local/anaconda3/envs/llmenv/lib/python3.10/site-packages (from coloredlogs->onnxruntime!=1.20.0,>=1.17.0->fastembed==0.6.1->qdrant-client[fastembed]) (10.0)\n",
      "Requirement already satisfied: mpmath<1.4,>=1.1.0 in /usr/local/anaconda3/envs/llmenv/lib/python3.10/site-packages (from sympy->onnxruntime!=1.20.0,>=1.17.0->fastembed==0.6.1->qdrant-client[fastembed]) (1.3.0)\n"
     ]
    }
   ],
   "source": [
    "! pip install  \"qdrant-client[fastembed]\""
   ]
  },
  {
   "cell_type": "markdown",
   "id": "25b86b30",
   "metadata": {},
   "source": [
    "What's the version of dlt that you installed?"
   ]
  },
  {
   "cell_type": "code",
   "execution_count": 17,
   "id": "3b91bd96",
   "metadata": {},
   "outputs": [
    {
     "name": "stdout",
     "output_type": "stream",
     "text": [
      "dlt version: 1.14.1\n"
     ]
    }
   ],
   "source": [
    "import dlt\n",
    "\n",
    "dlt_version = dlt.__version__\n",
    "print(f\"dlt version: {dlt_version}\")"
   ]
  },
  {
   "cell_type": "markdown",
   "id": "1df07e47",
   "metadata": {},
   "source": [
    "## dlt Resourse\n",
    "\n",
    "For reading the FAQ data, we have this helper function:\n",
    "\n",
    "```python\n",
    "def zoomcamp_data():\n",
    "    docs_url = 'https://github.com/alexeygrigorev/llm-rag-workshop/raw/main/notebooks/documents.json'\n",
    "    docs_response = requests.get(docs_url)\n",
    "    documents_raw = docs_response.json()\n",
    "\n",
    "    for course in documents_raw:\n",
    "        course_name = course['course']\n",
    "\n",
    "        for doc in course['documents']:\n",
    "            doc['course'] = course_name\n",
    "            yield doc\n",
    "```\n",
    "\n",
    "Annotate it with `@dlt.resource`. We will use it when creating\n",
    "a dlt pipeline."
   ]
  },
  {
   "cell_type": "code",
   "execution_count": 4,
   "id": "30500fae",
   "metadata": {},
   "outputs": [],
   "source": [
    "@dlt.resource(write_disposition=\"replace\", name=\"zoomcamp_data\")\n",
    "def zoomcamp_data():\n",
    "    docs_url = 'https://github.com/alexeygrigorev/llm-rag-workshop/raw/main/notebooks/documents.json'\n",
    "    docs_response = requests.get(docs_url)\n",
    "    documents_raw = docs_response.json()\n",
    "\n",
    "    for course in documents_raw:\n",
    "        course_name = course['course']\n",
    "\n",
    "        for doc in course['documents']:\n",
    "            doc['course'] = course_name\n",
    "            yield doc"
   ]
  },
  {
   "cell_type": "markdown",
   "id": "ca56884c",
   "metadata": {},
   "source": [
    "## Question 2. dlt pipeline\n",
    "\n",
    "Now let's create a pipeline. \n",
    "\n",
    "We need to define a destination for that. Let's use the `qdrant` one:"
   ]
  },
  {
   "cell_type": "code",
   "execution_count": 3,
   "id": "576dcbb8",
   "metadata": {},
   "outputs": [],
   "source": [
    "from dlt.destinations import qdrant\n",
    "\n",
    "qdrant_destination = qdrant(\n",
    "  qd_path=\"db.qdrant\"\n",
    ")"
   ]
  },
  {
   "cell_type": "markdown",
   "id": "d7b433eb",
   "metadata": {},
   "source": [
    "In this case, we tell dlt (and Qdrant) to create a folder with\n",
    "our data, and the name for it will be `db.qdrant`\n",
    "\n",
    "Let's run it:\n"
   ]
  },
  {
   "cell_type": "code",
   "execution_count": null,
   "id": "8c554dc2",
   "metadata": {},
   "outputs": [
    {
     "name": "stdout",
     "output_type": "stream",
     "text": [
      "Run started at 2025-07-22 17:41:16.527277+00:00 and COMPLETED in 3.95 seconds with 4 steps.\n",
      "Step extract COMPLETED in 0.36 seconds.\n",
      "\n",
      "Load package 1753206077.1719759 is EXTRACTED and NOT YET LOADED to the destination and contains no failed jobs\n",
      "\n",
      "Step normalize COMPLETED in 0.08 seconds.\n",
      "Normalized data for the following tables:\n",
      "- zoomcamp_data: 948 row(s)\n",
      "\n",
      "Load package 1753206077.1719759 is NORMALIZED and NOT YET LOADED to the destination and contains no failed jobs\n",
      "\n",
      "Step load COMPLETED in 2.88 seconds.\n",
      "Pipeline zoomcamp_pipeline load step completed in 2.87 seconds\n",
      "1 load package(s) were loaded to destination qdrant and into dataset zoomcamp_tagged_data\n",
      "The qdrant destination used /Users/gabi/codes/llm_zoomcamp/03_workshop/db.qdrant location to store data\n",
      "Load package 1753206077.1719759 is LOADED and contains no failed jobs\n",
      "\n",
      "Step run COMPLETED in 3.95 seconds.\n",
      "Pipeline zoomcamp_pipeline load step completed in 2.87 seconds\n",
      "1 load package(s) were loaded to destination qdrant and into dataset zoomcamp_tagged_data\n",
      "The qdrant destination used /Users/gabi/codes/llm_zoomcamp/03_workshop/db.qdrant location to store data\n",
      "Load package 1753206077.1719759 is LOADED and contains no failed jobs\n"
     ]
    }
   ],
   "source": [
    "pipeline = dlt.pipeline(\n",
    "    pipeline_name=\"zoomcamp_pipeline\",\n",
    "    destination=qdrant_destination,\n",
    "    dataset_name=\"zoomcamp_tagged_data\"\n",
    "\n",
    ")\n",
    "load_info = pipeline.run(zoomcamp_data())\n",
    "\n",
    "print(pipeline.last_trace)"
   ]
  },
  {
   "cell_type": "markdown",
   "id": "7dd8672d",
   "metadata": {},
   "source": [
    "How many rows were inserted into the `zoomcamp_data` collection?\n",
    "\n",
    "Look for `\"Normalized data for the following tables:\"` in the trace output.\n",
    "\n",
    "> 948"
   ]
  },
  {
   "cell_type": "markdown",
   "id": "5b975e66",
   "metadata": {},
   "source": [
    "## Question 3. Embeddings\n",
    "\n",
    "When inserting the data, an embedding model was used. Which one?\n",
    "\n",
    "You can find this out by inspecting the `meta.json` file created\n",
    "in the target folder. During the data insertion process, a folder named db.qdrant will be created, and the meta.json file will be located inside this folder.\n",
    "\n",
    "\n",
    "## Submit the results\n",
    "\n",
    "* Submit your results here: https://courses.datatalks.club/llm-zoomcamp-2025/homework/dlt"
   ]
  }
 ],
 "metadata": {
  "kernelspec": {
   "display_name": "llmenv",
   "language": "python",
   "name": "python3"
  },
  "language_info": {
   "codemirror_mode": {
    "name": "ipython",
    "version": 3
   },
   "file_extension": ".py",
   "mimetype": "text/x-python",
   "name": "python",
   "nbconvert_exporter": "python",
   "pygments_lexer": "ipython3",
   "version": "3.10.16"
  }
 },
 "nbformat": 4,
 "nbformat_minor": 5
}
