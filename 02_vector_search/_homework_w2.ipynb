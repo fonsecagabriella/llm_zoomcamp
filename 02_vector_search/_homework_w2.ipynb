{
 "cells": [
  {
   "cell_type": "markdown",
   "id": "f75a5c4d",
   "metadata": {},
   "source": [
    "## Homework: Vector Search\n",
    "\n",
    "In this homework, we will learn more about vector search\n",
    "and embedding. Like in the module, we will use Qdrant and\n",
    "fastembed\n",
    "\n",
    "> It's possible that your answers won't match exactly. If it's the case, select the closest one.\n",
    "\n",
    "Note: if you want to learn how vector search works under\n",
    "the hood, check \n",
    "[homework 3 from 2024 cohort (questions 1-4)](../../2024/03-vector-search/homework.md)\n",
    "\n",
    "## Embeddings\n",
    "\n",
    "Qdrant uses [fastembed](https://github.com/qdrant/fastembed)\n",
    "under the hood to turn text into vectors. \n",
    "\n",
    "We will now explore this library\n",
    "\n",
    "Make sure it's installed:\n",
    "\n",
    "```bash\n",
    "pip install fastembed\n",
    "```\n",
    "\n",
    "Import it: \n",
    "\n",
    "```python\n",
    "from fastembed import TextEmbedding\n",
    "```\n",
    "\n",
    "## Q1. Embedding the query\n",
    "\n",
    "Embed the query: `'I just discovered the course. Can I join now?'`.\n",
    "Use the `'jinaai/jina-embeddings-v2-small-en'` model. \n",
    "\n",
    "You should get a numpy array of size 512.\n",
    "\n",
    "What's the minimal value in this array?\n",
    "\n",
    "\n",
    "> -0.11\n",
    "\n",
    "\n"
   ]
  },
  {
   "cell_type": "code",
   "execution_count": 23,
   "id": "891520f3",
   "metadata": {},
   "outputs": [
    {
     "name": "stdout",
     "output_type": "stream",
     "text": [
      "Minimum value in embedding: -0.11726373885183883\n",
      "Shape of embedding: (512,)\n"
     ]
    }
   ],
   "source": [
    "import numpy as np\n",
    "from fastembed import TextEmbedding\n",
    "\n",
    "# Load the embedding model\n",
    "embedder = TextEmbedding(model_name=\"jinaai/jina-embeddings-v2-small-en\")\n",
    "\n",
    "# Embed the query\n",
    "query_1 = [\"I just discovered the course. Can I join now?\"]\n",
    "embedding = next(embedder.embed(query_1))  # Returns a generator, so we use `next`\n",
    "\n",
    "# Convert to numpy array if needed (usually it's already a NumPy array)\n",
    "embedding = np.array(embedding)\n",
    "\n",
    "# Check the minimum value\n",
    "print(\"Minimum value in embedding:\", embedding.min())\n",
    "print(\"Shape of embedding:\", embedding.shape)"
   ]
  },
  {
   "cell_type": "markdown",
   "id": "0685093e",
   "metadata": {},
   "source": [
    "## Cosine similarity\n",
    "\n",
    "The vectors that our embedding model returns are already normalized: their length is 1.0.\n",
    "\n",
    "You can chech that by using the `norm` function:\n",
    "\n",
    "```python\n",
    "import numpy as np\n",
    "np.linalg.norm(q)\n",
    "```\n",
    "\n",
    "Which means that we can simply compute the dot product between\n",
    "two vectors to learn the cosine similarity between them.\n",
    "\n",
    "For example, if you compute the cosine of the query vector with itself, the result will be 1.0:\n",
    "\n",
    "```python\n",
    "q.dot(q)"
   ]
  },
  {
   "cell_type": "code",
   "execution_count": 7,
   "id": "eff3e415",
   "metadata": {},
   "outputs": [
    {
     "name": "stdout",
     "output_type": "stream",
     "text": [
      "Norm:\n",
      "1.0\n",
      "Dot product:\n",
      "1.0000000000000002\n"
     ]
    }
   ],
   "source": [
    "print(f\"Norm:\\n{np.linalg.norm(embedding)}\")  # This will compute the L2 norm of the embedding\n",
    "\n",
    "print(f\"Dot product:\\n{embedding.dot(embedding)}\")  # This will compute the dot product of the embedding with itself"
   ]
  },
  {
   "cell_type": "markdown",
   "id": "5019843e",
   "metadata": {},
   "source": [
    "## Q2. Cosine similarity with another vector\n",
    "\n",
    "Now let's embed this document:\n",
    "\n",
    "```python\n",
    "doc = 'Can I still join the course after the start date?'\n",
    "```\n",
    "\n",
    "What's the cosine similarity between the vector for the query\n",
    "and the vector for the document?\n",
    "\n",
    "> 0.9"
   ]
  },
  {
   "cell_type": "code",
   "execution_count": null,
   "id": "d50a0268",
   "metadata": {},
   "outputs": [
    {
     "name": "stdout",
     "output_type": "stream",
     "text": [
      "Norm of second embedding:\n",
      "1.0\n",
      "Dot product of second embedding:\n",
      "1.0\n",
      "Dot product of first and second embeddings:\n",
      "0.9008528895674548\n",
      "Cosine similarity:\n",
      "0.9008528895674548\n"
     ]
    }
   ],
   "source": [
    "query = [\"Can I still join the course after the start date?\"]\n",
    "embedding_2 = next(embedder.embed(query))\n",
    "\n",
    "print(f\"Norm of second embedding:\\n{np.linalg.norm(embedding_2)}\")  # L2 norm of the second embedding\n",
    "print(f\"Dot product of second embedding:\\n{embedding_2.dot(embedding_2)}\")  # Dot product of the second embedding with itself\n",
    "print(f\"Dot product of first and second embeddings:\\n{embedding.dot(embedding_2)}\")  # Dot product between the two embeddings\n",
    "print(f\"Cosine similarity:\\n{embedding.dot(embedding_2) / (np.linalg.norm(embedding) * np.linalg.norm(embedding_2))}\")  # Cosine similarity (same as dot product for normalized vectors)"
   ]
  },
  {
   "cell_type": "markdown",
   "id": "66a6e4fb",
   "metadata": {},
   "source": [
    "## Q3. Ranking by cosine\n",
    "\n",
    "For Q3 and Q4 we will use these documents:\n",
    "\n",
    "```python\n",
    "documents = [{'text': \"Yes, even if you don't register, you're still eligible to submit the homeworks.\\nBe aware, however, that there will be deadlines for turning in the final projects. So don't leave everything for the last minute.\",\n",
    "  'section': 'General course-related questions',\n",
    "  'question': 'Course - Can I still join the course after the start date?',\n",
    "  'course': 'data-engineering-zoomcamp'},\n",
    " {'text': 'Yes, we will keep all the materials after the course finishes, so you can follow the course at your own pace after it finishes.\\nYou can also continue looking at the homeworks and continue preparing for the next cohort. I guess you can also start working on your final capstone project.',\n",
    "  'section': 'General course-related questions',\n",
    "  'question': 'Course - Can I follow the course after it finishes?',\n",
    "  'course': 'data-engineering-zoomcamp'},\n",
    " {'text': \"The purpose of this document is to capture frequently asked technical questions\\nThe exact day and hour of the course will be 15th Jan 2024 at 17h00. The course will start with the first  “Office Hours'' live.1\\nSubscribe to course public Google Calendar (it works from Desktop only).\\nRegister before the course starts using this link.\\nJoin the course Telegram channel with announcements.\\nDon’t forget to register in DataTalks.Club's Slack and join the channel.\",\n",
    "  'section': 'General course-related questions',\n",
    "  'question': 'Course - When will the course start?',\n",
    "  'course': 'data-engineering-zoomcamp'},\n",
    " {'text': 'You can start by installing and setting up all the dependencies and requirements:\\nGoogle cloud account\\nGoogle Cloud SDK\\nPython 3 (installed with Anaconda)\\nTerraform\\nGit\\nLook over the prerequisites and syllabus to see if you are comfortable with these subjects.',\n",
    "  'section': 'General course-related questions',\n",
    "  'question': 'Course - What can I do before the course starts?',\n",
    "  'course': 'data-engineering-zoomcamp'},\n",
    " {'text': 'Star the repo! Share it with friends if you find it useful ❣️\\nCreate a PR if you see you can improve the text or the structure of the repository.',\n",
    "  'section': 'General course-related questions',\n",
    "  'question': 'How can we contribute to the course?',\n",
    "  'course': 'data-engineering-zoomcamp'}]\n",
    "```\n",
    "\n",
    "Compute the embeddings for the text field, and compute the \n",
    "cosine between the query vector and all the documents.\n",
    "\n",
    "What's the document index with the highest similarity? (Indexing starts from 0):\n",
    "\n",
    "> 1\n",
    "\n",
    "Hint: if you put all the embeddings of the text field in one matrix `V` (a single 2-dimensional numpy array), then\n",
    "computing the cosine becomes a matrix multiplication:\n",
    "\n",
    "```python\n",
    "V.dot(q)\n",
    "```\n",
    "\n",
    "If this hint is rather confusing you than helping, feel free\n",
    "to ignore it."
   ]
  },
  {
   "cell_type": "code",
   "execution_count": 9,
   "id": "70ae02b8",
   "metadata": {},
   "outputs": [],
   "source": [
    "documents = [{'text': \"Yes, even if you don't register, you're still eligible to submit the homeworks.\\nBe aware, however, that there will be deadlines for turning in the final projects. So don't leave everything for the last minute.\",\n",
    "  'section': 'General course-related questions',\n",
    "  'question': 'Course - Can I still join the course after the start date?',\n",
    "  'course': 'data-engineering-zoomcamp'},\n",
    " {'text': 'Yes, we will keep all the materials after the course finishes, so you can follow the course at your own pace after it finishes.\\nYou can also continue looking at the homeworks and continue preparing for the next cohort. I guess you can also start working on your final capstone project.',\n",
    "  'section': 'General course-related questions',\n",
    "  'question': 'Course - Can I follow the course after it finishes?',\n",
    "  'course': 'data-engineering-zoomcamp'},\n",
    " {'text': \"The purpose of this document is to capture frequently asked technical questions\\nThe exact day and hour of the course will be 15th Jan 2024 at 17h00. The course will start with the first  “Office Hours'' live.1\\nSubscribe to course public Google Calendar (it works from Desktop only).\\nRegister before the course starts using this link.\\nJoin the course Telegram channel with announcements.\\nDon’t forget to register in DataTalks.Club's Slack and join the channel.\",\n",
    "  'section': 'General course-related questions',\n",
    "  'question': 'Course - When will the course start?',\n",
    "  'course': 'data-engineering-zoomcamp'},\n",
    " {'text': 'You can start by installing and setting up all the dependencies and requirements:\\nGoogle cloud account\\nGoogle Cloud SDK\\nPython 3 (installed with Anaconda)\\nTerraform\\nGit\\nLook over the prerequisites and syllabus to see if you are comfortable with these subjects.',\n",
    "  'section': 'General course-related questions',\n",
    "  'question': 'Course - What can I do before the course starts?',\n",
    "  'course': 'data-engineering-zoomcamp'},\n",
    " {'text': 'Star the repo! Share it with friends if you find it useful ❣️\\nCreate a PR if you see you can improve the text or the structure of the repository.',\n",
    "  'section': 'General course-related questions',\n",
    "  'question': 'How can we contribute to the course?',\n",
    "  'course': 'data-engineering-zoomcamp'}]"
   ]
  },
  {
   "cell_type": "code",
   "execution_count": 12,
   "id": "739bea32",
   "metadata": {},
   "outputs": [
    {
     "name": "stdout",
     "output_type": "stream",
     "text": [
      "Most similar document index: 1\n",
      "Most similar document text: Yes, we will keep all the materials after the course finishes, so you can follow the course at your own pace after it finishes.\n",
      "You can also continue looking at the homeworks and continue preparing for the next cohort. I guess you can also start working on your final capstone project.\n",
      "Cosine similarity score: 0.8182378156620136\n"
     ]
    }
   ],
   "source": [
    "# Compute embeddings for the text field in the documents\n",
    "embeddings = embedder.embed([doc['text'] for doc in documents])\n",
    "\n",
    "# Compute the cosine similarity between the query embedding and each document embedding\n",
    "similarities = []\n",
    "for doc_embedding in embeddings:\n",
    "    doc_embedding = np.array(doc_embedding)  # Ensure it's a NumPy array\n",
    "    cosine_similarity = embedding.dot(doc_embedding) / (np.linalg.norm(embedding) * np.linalg.norm(doc_embedding))\n",
    "    similarities.append(cosine_similarity)\n",
    "\n",
    "# Print the document with the highest similarity, its index, and the similarity score\n",
    "max_index = np.argmax(similarities)\n",
    "print(f\"Most similar document index: {max_index}\")\n",
    "print(f\"Most similar document text: {documents[max_index]['text']}\")\n",
    "print(f\"Cosine similarity score: {similarities[max_index]}\")\n"
   ]
  },
  {
   "cell_type": "markdown",
   "id": "86077596",
   "metadata": {},
   "source": [
    "## Q4. Ranking by cosine, version two\n",
    "\n",
    "Now let's calculate a new field, which is a concatenation of\n",
    "`question` and `text`:\n",
    "\n",
    "```python\n",
    "full_text = doc['question'] + ' ' + doc['text']\n",
    "``` \n",
    "\n",
    "Embed this field and compute the cosine between it and the\n",
    "query vector. What's the highest scoring document?\n",
    "\n",
    "> 0\n",
    "\n",
    "Is it different from Q3? If yes, why?\n",
    "> Yes. The additional context in question + text helps the embedding model better match intent and meaning."
   ]
  },
  {
   "cell_type": "code",
   "execution_count": 18,
   "id": "ea7e0592",
   "metadata": {},
   "outputs": [
    {
     "name": "stdout",
     "output_type": "stream",
     "text": [
      "Most similar document index: 0\n",
      "Most similar document text: Yes, even if you don't register, you're still eligible to submit the homeworks.\n",
      "Be aware, however, that there will be deadlines for turning in the final projects. So don't leave everything for the last minute.\n",
      "Cosine similarity score: 0.8514543194432261\n"
     ]
    }
   ],
   "source": [
    "for doc in documents:\n",
    "    doc['full_text'] = doc['question'] + ' ' + doc['text']\n",
    "\n",
    "# Compute embeddings for the full_text field in the documents\n",
    "embeddings_full_text = embedder.embed([doc['full_text'] for doc in documents])\n",
    "\n",
    "# Compute the cosine similarity between the query embedding and each document embedding\n",
    "similarities = []\n",
    "for doc_embedding in embeddings_full_text:\n",
    "    doc_embedding = np.array(doc_embedding)  # Ensure it's a NumPy array\n",
    "    cosine_similarity = embedding.dot(doc_embedding) / (np.linalg.norm(embedding) * np.linalg.norm(doc_embedding))\n",
    "    similarities.append(cosine_similarity)\n",
    "\n",
    "# Print the document with the highest similarity, its index, and the similarity score\n",
    "max_index = np.argmax(similarities)\n",
    "print(f\"Most similar document index: {max_index}\")\n",
    "print(f\"Most similar document text: {documents[max_index]['text']}\")\n",
    "print(f\"Cosine similarity score: {similarities[max_index]}\")"
   ]
  },
  {
   "cell_type": "markdown",
   "id": "72f86419",
   "metadata": {},
   "source": [
    "## Q5. Selecting the embedding model\n",
    "\n",
    "Now let's select a smaller embedding model.\n",
    "What's the smallest dimensionality for models in fastembed?\n",
    "\n",
    "> 384\n",
    "\n",
    "One of these models is `BAAI/bge-small-en`. Let's use it."
   ]
  },
  {
   "cell_type": "code",
   "execution_count": 19,
   "id": "2beb9522",
   "metadata": {},
   "outputs": [
    {
     "data": {
      "application/vnd.jupyter.widget-view+json": {
       "model_id": "f78fba4cd4ae45aea470ec187eefc238",
       "version_major": 2,
       "version_minor": 0
      },
      "text/plain": [
       "Fetching 5 files:   0%|          | 0/5 [00:00<?, ?it/s]"
      ]
     },
     "metadata": {},
     "output_type": "display_data"
    },
    {
     "data": {
      "application/vnd.jupyter.widget-view+json": {
       "model_id": "df2f59afa7024b5a92ce788a2016fb24",
       "version_major": 2,
       "version_minor": 0
      },
      "text/plain": [
       "model_optimized.onnx:   0%|          | 0.00/133M [00:00<?, ?B/s]"
      ]
     },
     "metadata": {},
     "output_type": "display_data"
    },
    {
     "data": {
      "application/vnd.jupyter.widget-view+json": {
       "model_id": "10e8e5188efe4d69828c51fe4f325f9c",
       "version_major": 2,
       "version_minor": 0
      },
      "text/plain": [
       "config.json:   0%|          | 0.00/701 [00:00<?, ?B/s]"
      ]
     },
     "metadata": {},
     "output_type": "display_data"
    },
    {
     "data": {
      "application/vnd.jupyter.widget-view+json": {
       "model_id": "72e40834095f4038afab0c2ee49cf0ff",
       "version_major": 2,
       "version_minor": 0
      },
      "text/plain": [
       "tokenizer_config.json:   0%|          | 0.00/366 [00:00<?, ?B/s]"
      ]
     },
     "metadata": {},
     "output_type": "display_data"
    },
    {
     "data": {
      "application/vnd.jupyter.widget-view+json": {
       "model_id": "21180a4c3c7643429e0204a336ee963e",
       "version_major": 2,
       "version_minor": 0
      },
      "text/plain": [
       "special_tokens_map.json:   0%|          | 0.00/125 [00:00<?, ?B/s]"
      ]
     },
     "metadata": {},
     "output_type": "display_data"
    },
    {
     "data": {
      "application/vnd.jupyter.widget-view+json": {
       "model_id": "705856e30b4a4c729e9d422dd7f325ef",
       "version_major": 2,
       "version_minor": 0
      },
      "text/plain": [
       "tokenizer.json:   0%|          | 0.00/711k [00:00<?, ?B/s]"
      ]
     },
     "metadata": {},
     "output_type": "display_data"
    },
    {
     "name": "stdout",
     "output_type": "stream",
     "text": [
      "Shape of embedding from BAAI model: (384,)\n"
     ]
    }
   ],
   "source": [
    "# Check the shape of the embeddings for model BAAI/bge-small-en\n",
    "# Load the embedding model\n",
    "embedder_baai = TextEmbedding(model_name=\"BAAI/bge-small-en\")\n",
    "\n",
    "# Embed the query using the BAAI model\n",
    "embedding_baai = next(embedder_baai.embed(query))  # Returns a generator, so we use `next`\n",
    "# Convert to numpy array if needed (usually it's already a NumPy array)\n",
    "embedding_baai = np.array(embedding_baai)\n",
    "# Check the shape of the embedding\n",
    "print(\"Shape of embedding from BAAI model:\", embedding_baai.shape)\n"
   ]
  },
  {
   "cell_type": "markdown",
   "id": "26917b4c",
   "metadata": {},
   "source": [
    "## Q6. Indexing with qdrant (2 points)\n",
    "\n",
    "For the last question, we will use more documents.\n",
    "\n",
    "We will select only FAQ records from our ml zoomcamp:\n"
   ]
  },
  {
   "cell_type": "code",
   "execution_count": null,
   "id": "9dfe400a",
   "metadata": {},
   "outputs": [],
   "source": [
    "import requests \n",
    "\n",
    "docs_url = 'https://github.com/alexeygrigorev/llm-rag-workshop/raw/main/notebooks/documents.json'\n",
    "docs_response = requests.get(docs_url)\n",
    "documents_raw = docs_response.json()\n",
    "\n",
    "\n",
    "documents = []\n",
    "\n",
    "for course in documents_raw:\n",
    "    course_name = course['course']\n",
    "    if course_name != 'machine-learning-zoomcamp':\n",
    "        continue\n",
    "\n",
    "    for doc in course['documents']:\n",
    "        doc['course'] = course_name\n",
    "        doc['text'] = doc['question'] + ' ' + doc['text']\n",
    "        documents.append(doc)"
   ]
  },
  {
   "cell_type": "markdown",
   "id": "73794fcd",
   "metadata": {},
   "source": [
    "Add them to qdrant using the model form Q5.\n",
    "\n",
    "When adding the data, use both question and answer fields:\n",
    "\n",
    "```python\n",
    "text = doc['question'] + ' ' + doc['text']\n",
    "```\n",
    "\n",
    "After the data is inserted, use the question from Q1 for querying the collection.\n",
    "\n",
    "What's the highest score in the results?\n",
    "(The score for the first returned record):\n",
    "\n",
    "\n",
    "> 0.87\n",
    "\n"
   ]
  },
  {
   "cell_type": "code",
   "execution_count": 41,
   "id": "4c43e782",
   "metadata": {},
   "outputs": [
    {
     "name": "stderr",
     "output_type": "stream",
     "text": [
      "/var/folders/55/x1yqz6851xj6j2f0smdhs4jh0000gn/T/ipykernel_58798/1691277066.py:16: DeprecationWarning: `recreate_collection` method is deprecated and will be removed in the future. Use `collection_exists` to check collection existence and `create_collection` instead.\n",
      "  client.recreate_collection(\n"
     ]
    },
    {
     "data": {
      "text/plain": [
       "UpdateResult(operation_id=0, status=<UpdateStatus.COMPLETED: 'completed'>)"
      ]
     },
     "execution_count": 41,
     "metadata": {},
     "output_type": "execute_result"
    }
   ],
   "source": [
    "from qdrant_client import QdrantClient, models\n",
    "from fastembed import TextEmbedding\n",
    "import numpy as np\n",
    "\n",
    "# Connect to Qdrant (local)\n",
    "client = QdrantClient(\"http://localhost:6333\")\n",
    "\n",
    "# Model name and FastEmbed instance\n",
    "model_handle = \"BAAI/bge-small-en\"\n",
    "embedder_baai = TextEmbedding(model_name=model_handle)\n",
    "\n",
    "# Collection name\n",
    "collection_name = \"zoomcamp-homework-2\"\n",
    "\n",
    "# Recreate the collection with correct vector size and distance\n",
    "client.recreate_collection(\n",
    "    collection_name=collection_name,\n",
    "    vectors_config=models.VectorParams(\n",
    "        size=384,  # BAAI/bge-small-en dimensionality\n",
    "        distance=models.Distance.COSINE\n",
    "    )\n",
    ")\n",
    "\n",
    "# Prepare and insert points with full_text = question + text\n",
    "points = []\n",
    "for idx, doc in enumerate(documents):\n",
    "    full_text = doc['question'] + ' ' + doc['text']\n",
    "    vector = next(embedder_baai.embed([full_text]))  # Local embedding\n",
    "    point = models.PointStruct(\n",
    "        id=idx,\n",
    "        vector=vector,\n",
    "        payload={\n",
    "            \"question\": doc[\"question\"],\n",
    "            \"text\": doc[\"text\"],\n",
    "            \"course\": doc[\"course\"]\n",
    "        }\n",
    "    )\n",
    "    points.append(point)\n",
    "\n",
    "# Upsert points into Qdrant\n",
    "client.upsert(\n",
    "    collection_name=collection_name,\n",
    "    points=points\n",
    ")\n"
   ]
  },
  {
   "cell_type": "code",
   "execution_count": 42,
   "id": "7eed30a3",
   "metadata": {},
   "outputs": [
    {
     "name": "stdout",
     "output_type": "stream",
     "text": [
      "Top document: Yes, you can. You won’t be able to submit some of the homeworks, but you can still take part in the course.\n",
      "In order to get a certificate, you need to submit 2 out of 3 course projects and review 3 peers’ Projects by the deadline. It means that if you join the course at the end of November and manage to work on two projects, you will still be eligible for a certificate.\n",
      "Cosine similarity score: 0.87031734\n"
     ]
    },
    {
     "name": "stderr",
     "output_type": "stream",
     "text": [
      "/var/folders/55/x1yqz6851xj6j2f0smdhs4jh0000gn/T/ipykernel_58798/541462779.py:3: DeprecationWarning: `search` method is deprecated and will be removed in the future. Use `query_points` instead.\n",
      "  search_result = client.search(\n"
     ]
    }
   ],
   "source": [
    "query_vector = next(embedder_baai.embed([\"I just discovered the course. Can I join now?\"]))\n",
    "\n",
    "search_result = client.search(\n",
    "    collection_name=collection_name,\n",
    "    query_vector=query_vector,\n",
    "    limit=1,\n",
    "    with_payload=True\n",
    ")\n",
    "\n",
    "# Print the top result and score\n",
    "print(\"Top document:\", search_result[0].payload[\"text\"])\n",
    "print(\"Cosine similarity score:\", search_result[0].score)\n"
   ]
  }
 ],
 "metadata": {
  "kernelspec": {
   "display_name": "llmenv",
   "language": "python",
   "name": "python3"
  },
  "language_info": {
   "codemirror_mode": {
    "name": "ipython",
    "version": 3
   },
   "file_extension": ".py",
   "mimetype": "text/x-python",
   "name": "python",
   "nbconvert_exporter": "python",
   "pygments_lexer": "ipython3",
   "version": "3.10.16"
  }
 },
 "nbformat": 4,
 "nbformat_minor": 5
}
